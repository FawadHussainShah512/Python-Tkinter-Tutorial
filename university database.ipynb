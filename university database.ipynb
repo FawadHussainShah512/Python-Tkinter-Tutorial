{
 "cells": [
  {
   "cell_type": "code",
   "execution_count": null,
   "id": "329ef688",
   "metadata": {},
   "outputs": [],
   "source": [
    "import tkinter as tk\n",
    "from tkinter import ttk, messagebox\n",
    "\n",
    "from tkinter import *\n",
    "import pyodbc\n",
    "\n",
    "conn = pyodbc.connect('Driver={ODBC Driver 17 for SQL Server};'\n",
    "#your server and database name\n",
    "                      'Server=XYZ;'\n",
    "                      'Database=XYZ;'\n",
    "                      'Trusted_Connection=yes;')\n",
    "\n",
    "cursor = conn.cursor()\n",
    "\n",
    "cursor.execute('CREATE TABLE Universit_recoord (university_name varchar(20) ,university_loaction varchar(20),university_ranking int)')\n",
    "\n",
    "root = Tk()\n",
    "root.geometry(\"800x500\")\n",
    "root.config(background=\"#32a892\")\n",
    "global e1\n",
    "global e2\n",
    "global e3\n",
    "\n",
    " \n",
    "tk.Label(root, text=\"University Database\", fg=\"black\",bg=\"yellow\", font=(None, 30)).place(x=300, y=5)\n",
    " \n",
    "tk.Label(root, text=\"University Name\").place(x=350, y=100)\n",
    "Label(root, text=\"University Location\").place(x=350, y=150)\n",
    "Label(root, text=\"University Ranking\").place(x=350, y=200)\n",
    "\n",
    "\n",
    "         \n",
    "   \n",
    "e1 = Entry(root)\n",
    "e1.place(x=500, y=100)\n",
    " \n",
    "e2 = Entry(root)\n",
    "e2.place(x=500, y=150)\n",
    " \n",
    "e3 = Entry(root)\n",
    "e3.place(x=500, y=200)\n",
    " \n",
    "def submitdata():\n",
    "     \n",
    "    university_name = e1.get()\n",
    "    university_location = e2.get()\n",
    "    university_ranking = e3.get()\n",
    "\n",
    "  \n",
    "    Add(university_name,university_location,university_ranking)\n",
    "\n",
    "def Adduniversity(university_name,university_location,university_ranking):\n",
    "     cursor.execute('INSERT INTO University VALUES (?,?,?)',(university_name,university_location,university_ranking))\n",
    "     conn.commit()\n",
    "        \n",
    "        \n",
    "Button(root, text=\"Submit Data\",command = submitdata,height=3, width= 13,bg=\"orange\").place(x=430, y=250)\n",
    "\n",
    "root.mainloop()"
   ]
  },
  {
   "cell_type": "code",
   "execution_count": null,
   "id": "04360d53",
   "metadata": {},
   "outputs": [],
   "source": []
  },
  {
   "cell_type": "code",
   "execution_count": null,
   "id": "1a3f9257",
   "metadata": {},
   "outputs": [],
   "source": []
  }
 ],
 "metadata": {
  "kernelspec": {
   "display_name": "Python 3 (ipykernel)",
   "language": "python",
   "name": "python3"
  },
  "language_info": {
   "codemirror_mode": {
    "name": "ipython",
    "version": 3
   },
   "file_extension": ".py",
   "mimetype": "text/x-python",
   "name": "python",
   "nbconvert_exporter": "python",
   "pygments_lexer": "ipython3",
   "version": "3.9.7"
  }
 },
 "nbformat": 4,
 "nbformat_minor": 5
}
